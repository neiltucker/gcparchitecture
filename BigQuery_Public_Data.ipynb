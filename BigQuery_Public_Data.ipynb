{
  "nbformat": 4,
  "nbformat_minor": 0,
  "metadata": {
    "colab": {
      "name": "bigquery1.ipynb",
      "provenance": [],
      "collapsed_sections": []
    },
    "kernelspec": {
      "name": "python3",
      "display_name": "Python 3"
    }
  },
  "cells": [
    {
      "cell_type": "code",
      "metadata": {
        "colab_type": "code",
        "id": "SeTJb51SKs_W",
        "colab": {}
      },
      "source": [
        "from google.colab import auth\n",
        "auth.authenticate_user()\n",
        "print('Authenticated')"
      ],
      "execution_count": null,
      "outputs": []
    },
    {
      "cell_type": "code",
      "metadata": {
        "id": "cSX0usjyEn9e",
        "colab_type": "code",
        "colab": {}
      },
      "source": [
        "# Colab Data Table Extension.  Display data in a tabular format\n",
        "%load_ext google.colab.data_table\n",
        "\n",
        "# %unload_ext google.colab.data_table"
      ],
      "execution_count": null,
      "outputs": []
    },
    {
      "cell_type": "code",
      "metadata": {
        "id": "XZAqKCuKumcU",
        "colab_type": "code",
        "colab": {}
      },
      "source": [
        "### Covid19 Data Italy\n",
        "%%bigquery --project dataproc1-248508\n",
        "select * from `bigquery-public-data.covid19_italy.data_by_region`\n"
      ],
      "execution_count": null,
      "outputs": []
    },
    {
      "cell_type": "code",
      "metadata": {
        "colab_type": "code",
        "id": "egQutNBwES9t",
        "colab": {}
      },
      "source": [
        "### Covid19 Data Italy.  Save to a dataframe (df1)\n",
        "%%bigquery --project dataproc1-248508 df1\n",
        "select * from `bigquery-public-data.covid19_italy.data_by_region`\n"
      ],
      "execution_count": 20,
      "outputs": []
    },
    {
      "cell_type": "code",
      "metadata": {
        "id": "YX3wJpmNFL2Z",
        "colab_type": "code",
        "colab": {}
      },
      "source": [
        "df1"
      ],
      "execution_count": null,
      "outputs": []
    },
    {
      "cell_type": "code",
      "metadata": {
        "id": "A8JcvtI9FuGP",
        "colab_type": "code",
        "colab": {}
      },
      "source": [
        "from google.cloud import bigquery\n",
        "\n",
        "client = bigquery.Client(project='dataproc1-248508')\n",
        "\n",
        "sample_count = 0\n",
        "row_count = client.query('''\n",
        "  SELECT \n",
        "    COUNT(*) as total\n",
        "  FROM `bigquery-public-data.covid19_italy.data_by_region`''').to_dataframe().total[0]\n",
        "\n",
        "df = client.query('''\n",
        "  SELECT\n",
        "    *\n",
        "  FROM\n",
        "    `bigquery-public-data.covid19_italy.data_by_region`\n",
        "  WHERE RAND() < %d/%d\n",
        "''' % (sample_count, row_count)).to_dataframe()\n",
        "\n",
        "print('Full dataset has %d rows' % row_count)"
      ],
      "execution_count": null,
      "outputs": []
    }
  ]
}